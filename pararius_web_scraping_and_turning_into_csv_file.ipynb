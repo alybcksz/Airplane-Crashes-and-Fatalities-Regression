{
  "nbformat": 4,
  "nbformat_minor": 0,
  "metadata": {
    "colab": {
      "provenance": [],
      "authorship_tag": "ABX9TyN7EOljVmpBLYkLQIpIMizh",
      "include_colab_link": true
    },
    "kernelspec": {
      "name": "python3",
      "display_name": "Python 3"
    },
    "language_info": {
      "name": "python"
    }
  },
  "cells": [
    {
      "cell_type": "markdown",
      "metadata": {
        "id": "view-in-github",
        "colab_type": "text"
      },
      "source": [
        "<a href=\"https://colab.research.google.com/github/alybcksz/Airplane-Crashes-and-Fatalities-Regression/blob/main/pararius_web_scraping_and_turning_into_csv_file.ipynb\" target=\"_parent\"><img src=\"https://colab.research.google.com/assets/colab-badge.svg\" alt=\"Open In Colab\"/></a>"
      ]
    },
    {
      "cell_type": "code",
      "execution_count": null,
      "metadata": {
        "id": "z5V5ioWWyN7d"
      },
      "outputs": [],
      "source": [
        "from bs4 import BeautifulSoup\n",
        "import requests\n",
        "from csv import writer\n",
        "\n",
        "url= \"https://www.pararius.com/apartments/amsterdam?ac=1\"\n",
        "page = requests.get(url)\n",
        "\n",
        "soup = BeautifulSoup(page.content, 'html.parser')\n",
        "lists = soup.find_all('section', class_=\"listing-search-item\")\n",
        "\n",
        "with open('housing.csv', 'w', encoding='utf8', newline='') as f:\n",
        "    thewriter = writer(f)\n",
        "    header = ['Title', 'Location', 'Price', 'Area']\n",
        "    thewriter.writerow(header)\n",
        "\n",
        "    for list in lists:\n",
        "        title = list.find('a', class_=\"listing-search-item__link--title\").text.replace('\\n', '')\n",
        "        location = list.find('div', class_=\"listing-search-item__sub-title\").text.replace('\\n', '')\n",
        "        price = list.find('div', class_=\"listing-search-item__price\").text.replace('\\n', '')\n",
        "        area = list.find('li', class_=\"illustrated-features__item illustrated-features__item--surface-area\").text.replace('\\n', '')\n",
        "        \n",
        "        info = [title, location, price, area]\n",
        "        thewriter.writerow(info)"
      ]
    },
    {
      "cell_type": "code",
      "source": [
        "import pandas as pd"
      ],
      "metadata": {
        "id": "Dp30THTUyOzO"
      },
      "execution_count": null,
      "outputs": []
    },
    {
      "cell_type": "code",
      "source": [
        "df = pd.read_csv('housing.csv')"
      ],
      "metadata": {
        "id": "QrsCf66jzy3o"
      },
      "execution_count": null,
      "outputs": []
    },
    {
      "cell_type": "code",
      "source": [
        "df.head()"
      ],
      "metadata": {
        "colab": {
          "base_uri": "https://localhost:8080/",
          "height": 206
        },
        "id": "MIcv3lrXz3Z7",
        "outputId": "3cf6aa8d-1701-42b6-fdc5-e0c6404baceb"
      },
      "execution_count": null,
      "outputs": [
        {
          "output_type": "execute_result",
          "data": {
            "text/plain": [
              "                                               Title  \\\n",
              "0                          Apartment Boterdiepstr...   \n",
              "1                          Apartment Bosboom Tous...   \n",
              "2                          Apartment Johannes van...   \n",
              "3                          Apartment Van Nijenrod...   \n",
              "4                          Apartment Rustenburger...   \n",
              "\n",
              "                                            Location  \\\n",
              "0              1079 SV Amsterdam (Rijnbuurt)           \n",
              "1              1054 AT Amsterdam (Helmersbuurt)  ...   \n",
              "2              1098 PG Amsterdam (Middenmeer)    ...   \n",
              "3              1082 HL Amsterdam (Buitenveldert-W...   \n",
              "4              1072 HD Amsterdam (Nieuwe Pijp)   ...   \n",
              "\n",
              "                                          Price    Area  \n",
              "0                  €2,300 per month               73 m²  \n",
              "1                  €4,250 per month              155 m²  \n",
              "2                  €2,950 per month              115 m²  \n",
              "3                  €2,250 per month               80 m²  \n",
              "4                  €1,950 per month               60 m²  "
            ],
            "text/html": [
              "\n",
              "  <div id=\"df-0965bf49-af89-4a05-bc92-972fe362271c\">\n",
              "    <div class=\"colab-df-container\">\n",
              "      <div>\n",
              "<style scoped>\n",
              "    .dataframe tbody tr th:only-of-type {\n",
              "        vertical-align: middle;\n",
              "    }\n",
              "\n",
              "    .dataframe tbody tr th {\n",
              "        vertical-align: top;\n",
              "    }\n",
              "\n",
              "    .dataframe thead th {\n",
              "        text-align: right;\n",
              "    }\n",
              "</style>\n",
              "<table border=\"1\" class=\"dataframe\">\n",
              "  <thead>\n",
              "    <tr style=\"text-align: right;\">\n",
              "      <th></th>\n",
              "      <th>Title</th>\n",
              "      <th>Location</th>\n",
              "      <th>Price</th>\n",
              "      <th>Area</th>\n",
              "    </tr>\n",
              "  </thead>\n",
              "  <tbody>\n",
              "    <tr>\n",
              "      <th>0</th>\n",
              "      <td>Apartment Boterdiepstr...</td>\n",
              "      <td>1079 SV Amsterdam (Rijnbuurt)</td>\n",
              "      <td>€2,300 per month</td>\n",
              "      <td>73 m²</td>\n",
              "    </tr>\n",
              "    <tr>\n",
              "      <th>1</th>\n",
              "      <td>Apartment Bosboom Tous...</td>\n",
              "      <td>1054 AT Amsterdam (Helmersbuurt)  ...</td>\n",
              "      <td>€4,250 per month</td>\n",
              "      <td>155 m²</td>\n",
              "    </tr>\n",
              "    <tr>\n",
              "      <th>2</th>\n",
              "      <td>Apartment Johannes van...</td>\n",
              "      <td>1098 PG Amsterdam (Middenmeer)    ...</td>\n",
              "      <td>€2,950 per month</td>\n",
              "      <td>115 m²</td>\n",
              "    </tr>\n",
              "    <tr>\n",
              "      <th>3</th>\n",
              "      <td>Apartment Van Nijenrod...</td>\n",
              "      <td>1082 HL Amsterdam (Buitenveldert-W...</td>\n",
              "      <td>€2,250 per month</td>\n",
              "      <td>80 m²</td>\n",
              "    </tr>\n",
              "    <tr>\n",
              "      <th>4</th>\n",
              "      <td>Apartment Rustenburger...</td>\n",
              "      <td>1072 HD Amsterdam (Nieuwe Pijp)   ...</td>\n",
              "      <td>€1,950 per month</td>\n",
              "      <td>60 m²</td>\n",
              "    </tr>\n",
              "  </tbody>\n",
              "</table>\n",
              "</div>\n",
              "      <button class=\"colab-df-convert\" onclick=\"convertToInteractive('df-0965bf49-af89-4a05-bc92-972fe362271c')\"\n",
              "              title=\"Convert this dataframe to an interactive table.\"\n",
              "              style=\"display:none;\">\n",
              "        \n",
              "  <svg xmlns=\"http://www.w3.org/2000/svg\" height=\"24px\"viewBox=\"0 0 24 24\"\n",
              "       width=\"24px\">\n",
              "    <path d=\"M0 0h24v24H0V0z\" fill=\"none\"/>\n",
              "    <path d=\"M18.56 5.44l.94 2.06.94-2.06 2.06-.94-2.06-.94-.94-2.06-.94 2.06-2.06.94zm-11 1L8.5 8.5l.94-2.06 2.06-.94-2.06-.94L8.5 2.5l-.94 2.06-2.06.94zm10 10l.94 2.06.94-2.06 2.06-.94-2.06-.94-.94-2.06-.94 2.06-2.06.94z\"/><path d=\"M17.41 7.96l-1.37-1.37c-.4-.4-.92-.59-1.43-.59-.52 0-1.04.2-1.43.59L10.3 9.45l-7.72 7.72c-.78.78-.78 2.05 0 2.83L4 21.41c.39.39.9.59 1.41.59.51 0 1.02-.2 1.41-.59l7.78-7.78 2.81-2.81c.8-.78.8-2.07 0-2.86zM5.41 20L4 18.59l7.72-7.72 1.47 1.35L5.41 20z\"/>\n",
              "  </svg>\n",
              "      </button>\n",
              "      \n",
              "  <style>\n",
              "    .colab-df-container {\n",
              "      display:flex;\n",
              "      flex-wrap:wrap;\n",
              "      gap: 12px;\n",
              "    }\n",
              "\n",
              "    .colab-df-convert {\n",
              "      background-color: #E8F0FE;\n",
              "      border: none;\n",
              "      border-radius: 50%;\n",
              "      cursor: pointer;\n",
              "      display: none;\n",
              "      fill: #1967D2;\n",
              "      height: 32px;\n",
              "      padding: 0 0 0 0;\n",
              "      width: 32px;\n",
              "    }\n",
              "\n",
              "    .colab-df-convert:hover {\n",
              "      background-color: #E2EBFA;\n",
              "      box-shadow: 0px 1px 2px rgba(60, 64, 67, 0.3), 0px 1px 3px 1px rgba(60, 64, 67, 0.15);\n",
              "      fill: #174EA6;\n",
              "    }\n",
              "\n",
              "    [theme=dark] .colab-df-convert {\n",
              "      background-color: #3B4455;\n",
              "      fill: #D2E3FC;\n",
              "    }\n",
              "\n",
              "    [theme=dark] .colab-df-convert:hover {\n",
              "      background-color: #434B5C;\n",
              "      box-shadow: 0px 1px 3px 1px rgba(0, 0, 0, 0.15);\n",
              "      filter: drop-shadow(0px 1px 2px rgba(0, 0, 0, 0.3));\n",
              "      fill: #FFFFFF;\n",
              "    }\n",
              "  </style>\n",
              "\n",
              "      <script>\n",
              "        const buttonEl =\n",
              "          document.querySelector('#df-0965bf49-af89-4a05-bc92-972fe362271c button.colab-df-convert');\n",
              "        buttonEl.style.display =\n",
              "          google.colab.kernel.accessAllowed ? 'block' : 'none';\n",
              "\n",
              "        async function convertToInteractive(key) {\n",
              "          const element = document.querySelector('#df-0965bf49-af89-4a05-bc92-972fe362271c');\n",
              "          const dataTable =\n",
              "            await google.colab.kernel.invokeFunction('convertToInteractive',\n",
              "                                                     [key], {});\n",
              "          if (!dataTable) return;\n",
              "\n",
              "          const docLinkHtml = 'Like what you see? Visit the ' +\n",
              "            '<a target=\"_blank\" href=https://colab.research.google.com/notebooks/data_table.ipynb>data table notebook</a>'\n",
              "            + ' to learn more about interactive tables.';\n",
              "          element.innerHTML = '';\n",
              "          dataTable['output_type'] = 'display_data';\n",
              "          await google.colab.output.renderOutput(dataTable, element);\n",
              "          const docLink = document.createElement('div');\n",
              "          docLink.innerHTML = docLinkHtml;\n",
              "          element.appendChild(docLink);\n",
              "        }\n",
              "      </script>\n",
              "    </div>\n",
              "  </div>\n",
              "  "
            ]
          },
          "metadata": {},
          "execution_count": 4
        }
      ]
    },
    {
      "cell_type": "code",
      "source": [
        "df.shape"
      ],
      "metadata": {
        "colab": {
          "base_uri": "https://localhost:8080/"
        },
        "id": "XAN2RiDsz4YF",
        "outputId": "83d1ccda-6793-4688-f672-065b58275441"
      },
      "execution_count": null,
      "outputs": [
        {
          "output_type": "execute_result",
          "data": {
            "text/plain": [
              "(32, 4)"
            ]
          },
          "metadata": {},
          "execution_count": 5
        }
      ]
    },
    {
      "cell_type": "code",
      "source": [
        "df.replace({\"m²\":\"\",\"€\":\"\",\"per month\":\"\",\",\":\".\"},regex = True,inplace = True)"
      ],
      "metadata": {
        "id": "vx83U1c5qOXm"
      },
      "execution_count": null,
      "outputs": []
    },
    {
      "cell_type": "code",
      "source": [
        "df[[\"Price\",\"Area\"]] = df[[\"Price\",\"Area\"]].astype('float')"
      ],
      "metadata": {
        "id": "fvAYfX7WjyvB"
      },
      "execution_count": null,
      "outputs": []
    },
    {
      "cell_type": "code",
      "source": [
        "df.info()"
      ],
      "metadata": {
        "colab": {
          "base_uri": "https://localhost:8080/"
        },
        "id": "2xf519UGlpn2",
        "outputId": "62f3f1f0-9af6-4921-fc51-f4702aafeb1b"
      },
      "execution_count": null,
      "outputs": [
        {
          "output_type": "stream",
          "name": "stdout",
          "text": [
            "<class 'pandas.core.frame.DataFrame'>\n",
            "RangeIndex: 32 entries, 0 to 31\n",
            "Data columns (total 4 columns):\n",
            " #   Column    Non-Null Count  Dtype  \n",
            "---  ------    --------------  -----  \n",
            " 0   Title     32 non-null     object \n",
            " 1   Location  32 non-null     object \n",
            " 2   Price     32 non-null     float64\n",
            " 3   Area      32 non-null     float64\n",
            "dtypes: float64(2), object(2)\n",
            "memory usage: 1.1+ KB\n"
          ]
        }
      ]
    },
    {
      "cell_type": "code",
      "source": [],
      "metadata": {
        "id": "dM6gJzAumktb"
      },
      "execution_count": null,
      "outputs": []
    },
    {
      "cell_type": "code",
      "source": [],
      "metadata": {
        "id": "yuCq7qdwpecb"
      },
      "execution_count": null,
      "outputs": []
    }
  ]
}